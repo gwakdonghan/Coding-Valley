{
 "cells": [
  {
   "cell_type": "markdown",
   "metadata": {},
   "source": [
    "# chapter 1.\n",
    "## 문자열과 숫자 다루기\n",
    "\n",
    "문제 :\n",
    "\n",
    "print(\"\"\"welcom! \n",
    "hello word!\"\"\")\n",
    "\n",
    "print('''welcom \n",
    "hello word!''')\n",
    "\n",
    "print(\"welcome!\\nhelloword\")\n",
    "**각각의 프린트 결과와 의미를 말로 설명해보기** \n",
    "\n",
    "문제 : \n",
    "\n",
    "이스케이프 코드 \n",
    "\\n  \\t   \\\\\\   \\\\'   \\\\\"\n",
    "**이스케이프 코드란? 각각의 의미는?**"
   ]
  },
  {
   "cell_type": "code",
   "execution_count": null,
   "metadata": {},
   "outputs": [],
   "source": [
    "#문제 : (\"welcome helloword\") 문자열에 길이를 확인하는 방법은? 코드로 만들어보기"
   ]
  },
  {
   "cell_type": "markdown",
   "metadata": {},
   "source": [
    "문제 :\n",
    "\n",
    "print(\"chocolate \" * 2)\n",
    "\n",
    "print(\"바니\" * 4 + \"당근\" * 2)\n",
    "\n",
    "출력결과와 각각의 의미는? \n",
    "\n",
    "문제 :\n",
    "\n",
    "print(10 == 20)\n",
    "\n",
    "print(10 != 20)\n",
    "\n",
    "print(\"game\" == \"Game\")\n",
    "\n",
    "print(\"game\" != \"Game\")\n",
    "\n",
    "각각의 결과와 의미는?"
   ]
  },
  {
   "cell_type": "markdown",
   "metadata": {},
   "source": [
    "# chapter 2.\n",
    "## 값을 저장하고 관리하기\n",
    "\n",
    "**변수 업데이트**\n",
    "\n",
    "문제 : \n",
    "\n",
    "num = 3\n",
    "num += 1\n",
    "print(num)\n",
    "\n",
    "결과는? 말로 설명해보기"
   ]
  },
  {
   "cell_type": "code",
   "execution_count": 7,
   "metadata": {},
   "outputs": [],
   "source": [
    "#**리스트 번호** 34\n",
    "\n",
    "#문제 : 중첩 리스트안에 특정 값을 불러올려면 어떻게 해야할까?\n",
    "beverage_list = [\n",
    "\t[\"아메리카노\", \"카푸치노\"],\n",
    "\t[\"녹차\", \"유자차\"]\n",
    "]"
   ]
  },
  {
   "cell_type": "code",
   "execution_count": null,
   "metadata": {},
   "outputs": [],
   "source": [
    "#문제 : 리스트안에 수박이 몇번짼지 알고 싶다면?\n",
    "fruits = [\"딸기\", \"바나나\", \"사과\", \"수박\", \"포도\"]"
   ]
  },
  {
   "cell_type": "code",
   "execution_count": null,
   "metadata": {},
   "outputs": [],
   "source": [
    "#**리스트 자르기** 38\n",
    "#리스트 안에서 n번째 부터 n번째 까지 보고싶다면 어떻게 해야하고, 간격을 두고 볼려면 어떻게 해야할까? 코드로 작성해보기\n",
    "fruits = [\"딸기\", \"바나나\", \"사과\", \"수박\", \"포도\"]  "
   ]
  },
  {
   "cell_type": "code",
   "execution_count": null,
   "metadata": {},
   "outputs": [],
   "source": [
    "#**리스트 수정과 추가** 40\n",
    "\n",
    "#문제 :  리스트 안에서 3번째의 이름을 수정하고 싶다면?4번째의 이름을 수정하고 싶다면? 0번째부터 2번째 까지 수정하고 싶다면? 코드로적어보기\n",
    "nickname = [\"amy\", \"oliva\", \"rei\", \"kali\", \"joy\"]\n",
    "\n",
    "#문제 : 리스트의 끝에 요소를 한 개 추가하고 싶으면 어떤 메서드를 사용해야될까? 코드로 적어보기"
   ]
  },
  {
   "cell_type": "code",
   "execution_count": 9,
   "metadata": {},
   "outputs": [],
   "source": [
    "#**리스트값 제거** 42\n",
    "#문제 : 리스트안에 2번째 값을 제거하고, 리스트안에 2번째 부터 뒤로 전부 지우고 싶으면 어떻게 하고, 완전히 빈 리슽트로 만들려면 어떻게 해야될까?\n",
    "beverage_list = [\"아메리카노\", \"카푸치노\", \"라떼\", \"녹차\", \"유자차\"]\n"
   ]
  },
  {
   "cell_type": "code",
   "execution_count": 13,
   "metadata": {},
   "outputs": [],
   "source": [
    "#**타입 응용하기** 44\n",
    "#문제 :  print(\"123\" + 456) #결과는어떻게 나오고, 둘을 더할려면 어떻게 해야할까"
   ]
  },
  {
   "cell_type": "code",
   "execution_count": null,
   "metadata": {},
   "outputs": [],
   "source": [
    "#문졔 : 저의 전화번호는 01012345678 입니다 를 코드로 출력 해보기\n",
    "\n",
    "#문제 : 나는 오늘 아메리카노 2잔 마셨다 를 코드, f-string 으로 만들어보기"
   ]
  },
  {
   "cell_type": "markdown",
   "metadata": {},
   "source": [
    "# chapter 3.\n",
    "## 조건식을 만들어요"
   ]
  },
  {
   "cell_type": "code",
   "execution_count": null,
   "metadata": {},
   "outputs": [],
   "source": [
    "#**조건문** 50\n",
    "\n",
    "# 문제 : 10은 8보다 큽니다 라는 것을 f-string으로 조건문 코드로 만들어보기\n",
    "\n",
    "# 문제 : if 와 else 문으로 10만원보다 아래면\"적당한 각겨이네요~ 그게아니면 생각보다 비싸네요 쇼핑 끝!\" 이라는걸 코드작성해보기\n",
    "\n",
    "# 문제 : if 와 else 문으로 \"홀수 연도 출생자들은 겅간검진 대상자 입니다\" 라는 것을 출력 해보기."
   ]
  },
  {
   "cell_type": "code",
   "execution_count": null,
   "metadata": {},
   "outputs": [],
   "source": [
    "#위 3 문제 정답들\n",
    "num = 10\n",
    "if num > 8:\n",
    "    print(f\"{num}은 8보다 큽니다.\")\n",
    "print(\"실행 종료\")\n",
    "#==============================================================\n",
    "price = 80000\n",
    "if price < 100000:\n",
    "    print(\"적당한 가격이네요~\")\n",
    "else:\n",
    "    print(\"생각보다 비싸네요.\")\n",
    "print(\"쇼핑 끝!\")  # if 문 바깥의 코드\n",
    "================================================================\n",
    "birth_year = 1995\n",
    "if birth_year % 2 == 0:\n",
    "    print(\"짝수 연도 출생자들은 올해 건강 검진 대상자입니다.\")\n",
    "else: \n",
    "    print(\"홀수 연도 출생자들은 내년 건강 검진 대상자입니다.\")"
   ]
  },
  {
   "cell_type": "markdown",
   "metadata": {},
   "source": [
    "**중첩 조건문** 54\n",
    "\n",
    "> **조건문 이해하기** \n",
    "if 문은 조건이 참이면 어떤걸 실행할지까지만 나오는 구문이다.\n",
    "if else 문은 조건이 참일경우 거짓일경우 두가지에 대해 어떤걸 실행할지에 대해 나오고\n",
    "if elif else 문은 더 많은 조건으로 나눠진 상황에 대해 조건이 참 거짓인경우 어떤 실행할지 판결하는 구문이다."
   ]
  },
  {
   "cell_type": "code",
   "execution_count": null,
   "metadata": {},
   "outputs": [],
   "source": [
    "#문제 : 중첩 if문으로 장학금 수령 가능 여부 판별하기 / 70점을 기준으로 합격과 불합격을 조건문으로 가려본다,70이상이면 합격이고 70미만이면 불합격이다,여기서 70점을 넘어선 합격자들 중에 \n",
    "#나이가 19세 미만이면 장학금을 주고 나이가 19세 이상이면 장학금 수령불가 이다. 이걸 중첩 if 문으로 코드로 만들어보기\n",
    "\n",
    "#문제 : 70점 이상은 최종 합격이고 60점 이상 70점 미만은 2차 시험을 합격해야 최종합격이고 60점 미만은 불합격이다, 라는것을 if elif 문으로 만들어보기\n",
    "\n",
    "#문제 : 정민이는 주머니에 돈이 얼마가 있는지 모른다. 가지고 있는 돈으로 가장 비싼 빵을 사려고 하는데,\n",
    "#카스테라는 3000원 이고 소라빵은 2000원 이고 팥빵은 1000원 이다. 조건문 코드로 만들어 보기"
   ]
  },
  {
   "cell_type": "code",
   "execution_count": null,
   "metadata": {},
   "outputs": [],
   "source": [
    "#위 3 문제 정답들\n",
    "score = 80\n",
    "age = 15\n",
    "if score >= 70:  # 점수가 70점 이상일 경우 합격\n",
    "    print(\"합격을 축하합니다.\")\n",
    "    # 합격자 중 나이가 19세 미만인 경우 장학금 수령\n",
    "    if age < 19:\n",
    "        print(\"19세 미만 학생이므로, 장학금 수령 가능자입니다.\")\n",
    "    # 합격자 중 나이가 19세 이상인 경우 장학금 수령 불가\n",
    "    else:\n",
    "        print(\"19세 이상이라 장학금 수령이 불가합니다.\")\n",
    "else:\n",
    "    print(\"불합격입니다.\")\n",
    "#===================================================================================\n",
    "score = 65\n",
    "if score >= 70:  # 70점 이상이면 최종 합격\n",
    "    print(\"최종 합격\")\n",
    "elif score >= 60:  # 60점 이상이면 2차 시험 대상자\n",
    "    print(\"2차 시험 대상자\")\n",
    "else:  # 60점 미만이면 불합격\n",
    "    print(\"불합격\")\n",
    "#===================================================================================\n",
    "money_in_pocket = 1800\n",
    "if money_in_pocket >= 3000:\n",
    "    print(\"카스테라를 샀다.\")\n",
    "elif money_in_pocket >= 2000:\n",
    "    print(\"소라빵을 샀다.\")\n",
    "elif money_in_pocket >= 1000:\n",
    "    print(\"팥빵을 샀다.\")\n",
    "else:\n",
    "    print(\"빵을 살 돈이 없어...\")"
   ]
  },
  {
   "cell_type": "markdown",
   "metadata": {},
   "source": [
    "and 연산자와 or 연산자 56\n",
    "\n",
    "문제 : and 연산자의 뜻은? or 연산자의 뜻? 말로 설명 해보기 \n",
    "\n",
    "문제 : 비교 연산으로 생성된 조건식을 논리 연산자로 결합할 수 있는데,\n",
    "비교 연산자와 논리 연산자중  어떤 연산자가 우선순위이고 어떤 연산자가 먼저 수행 될까?"
   ]
  },
  {
   "cell_type": "code",
   "execution_count": 7,
   "metadata": {},
   "outputs": [],
   "source": [
    "#(and 연산자와 or 연산자 4분부터)\n",
    "#문제 : 논리연산자로 if문 조건식 구성하기/ 총점이 50점 미만이거나 결적을 6번이상 하면 F학점을 줄것이다. 앞에서 배운 조건문이랑 논리연산자를 사용하여 코드 만들기\n",
    "\n",
    "#문제 : 나는 지난 시험에 영어를 85점 수학은 88점 받았다. 다음 학기에 나는 어느 반에서 수업을 듣게 될까?\n",
    "#조건은 영어 90점 이상, 수학 85점 이상 받았다면 최우수반에 선별. 두 과목중 하나만 기준 점수 이상을 받았다면 우수 반 선별. 그 외의 경우에는 기본 반에 선별\n",
    "#코드로 만들어보기"
   ]
  },
  {
   "cell_type": "code",
   "execution_count": null,
   "metadata": {},
   "outputs": [],
   "source": [
    "#위 2 문제 정답들\n",
    "score = 70\n",
    "absence_count = 8\n",
    "# 점수가 50점 미만이거나 결석 횟수가 6회 이상이면 F\n",
    "if score < 50 or absence_count >= 6:\n",
    "    print(\"F학점\")\n",
    "else:\n",
    "    print(\"F학점에 해당되지 않음\")\n",
    "#=================================================================\n",
    "eng_score = 85\n",
    "math_score = 88\n",
    "if eng_score >= 90 and math_score >= 85:\n",
    "    print(\"최우수 반입니다.\")\n",
    "elif eng_score >= 90 or math_score >= 85:\n",
    "    print(\"우수 반입니다.\")\n",
    "else:\n",
    "    print(\"기본 반입니다.\")"
   ]
  },
  {
   "cell_type": "markdown",
   "metadata": {},
   "source": [
    "not 연산자와 in 연산자 60\n",
    "\n",
    "print(not Ture)\n",
    "print(not False)\n",
    "결과는?\n",
    "\n",
    "a = 10\n",
    "print(not (a < 9 or a > 5))\n",
    "print(not (a < 9 and a > 5))\n",
    "결과는?\n",
    "\n",
    "print(\"ing\" in \"Coding valley\")\n",
    "print(\"Coding\" in \"Coding valley\")\n",
    "결과는?"
   ]
  },
  {
   "cell_type": "code",
   "execution_count": null,
   "metadata": {},
   "outputs": [],
   "source": [
    "#문제 : 주머니에 카드나 현금이 둘중에 하나라도 있으면 버스를 타고 집에 가고 아무것도 없으면 걸아간다. in 과 or 연산자로 조건식 구성하기\n",
    "\n",
    "#문제 : 주머니에 카드도 없고 현금도 없는 경우(둘다없는경우) 걸어가고 그게 아니면 버스타고 간다. 를 not in 과 and 연산자로 조건식 구성하기"
   ]
  },
  {
   "cell_type": "code",
   "execution_count": null,
   "metadata": {},
   "outputs": [],
   "source": [
    "#위 2 문제 정답들\n",
    "pocket = [\"card\", \"cash\"]\n",
    "\n",
    "if \"card\" in pocket or \"cash\" in pocket:  # \"card\" 또는 \"cash\" 둘중 하나라도 있는 경우\n",
    "    print (\"버스 타고 집 가기\")\n",
    "else:\n",
    "    print (\"걸어가기\")\n",
    "#=========================================================================\n",
    "pocket = [\"card\", \"cash\"]\n",
    "\n",
    "if \"card\" not in pocket and \"cash\" not in pocket:    # \"card\" 도 없고 \"cash\"도 없는 경우\n",
    "    print(\"걸어가기\")\n",
    "else:\n",
    "    print(\"버스 타고 집 가기\")"
   ]
  },
  {
   "cell_type": "markdown",
   "metadata": {},
   "source": [
    "# CHAPTER 4. \n",
    "## 구문을 반복해요 66"
   ]
  },
  {
   "cell_type": "code",
   "execution_count": null,
   "metadata": {},
   "outputs": [],
   "source": [
    "#**리스트 순회 하기** 68\n",
    "\n",
    "#문제 : 90점 이상인 학생수 세기\n",
    "#리스트는 6명의 학생들의 점수이고, 90점이 넘는 학생은 몇명인지 세는것 이다. for문과 if문으로 코드로 작성하기.\n",
    "#프린트 했을때 \"성적이 90점 이상인 학생은 {count}명입니다.\" 를 프린트하기              \n",
    "#score_list = [100, 20, 75, 82, 95, 90] \n",
    "\n",
    "\n",
    "#문제 : 학생들의 합격여부 판별하기\n",
    "#주어진 리스트안에는 6명이고 번호 순서데로 적어놓은 학생들의 시험결과 이다. 1번학생부터 6번학생까지 차례데로 각 학생들이 시험에 합격하는지 못하는지 프린트하기.\n",
    "#score_list = [100, 20, 75, 82, 95, 90]    # 조건은 80점 이상이면 합격, 70점 이상이면 2차시험대상, 그 외에는 불합격이라는 코드를 for , if문으로 만들어보기\n",
    "\n",
    "#문제 : 중첩 리스트의 내부 리스트 순회하기 /\n",
    "#리스트의 두 학생의 국어 영어 수학 성적 리스트를 출력하기 \"\"1번째 학생의 국어, 영어, 수학 성적 리스트: [100, 90, 90]\"\" 이런식으로 둘 학생다 프린트하면된다. \n",
    "#all_scores = [[100, 90, 90], [80, 75, 90]]  #리스트는 두 학생의 국어 영어 수학 성적 리스트 이다. 리스트안에 있는 두 학생의 성적을 프린트하기"
   ]
  },
  {
   "cell_type": "code",
   "execution_count": null,
   "metadata": {},
   "outputs": [],
   "source": [
    "#위 3 문제 정답들\n",
    "score_list = [100, 20, 75, 82, 95, 90]\n",
    "count = 0      # 아직 몇명인지 안셋으니까 0으로.\n",
    "\n",
    "for score in score_list:          #score_list 안에 각 score에 대해\n",
    "    if score >= 90:               #90점 이상인지 확인해야되니까 \n",
    "        count += 1                #score가 90보다 높으면 여기 추가\n",
    "print(f\"성적이 90점 이상인 학생은 {count}명입니다.\")  #반복문이 다 끝났으니까 프린트.\n",
    "#====================================================================================================\n",
    "score_list = [100, 20, 75, 82, 95, 90]\n",
    "i = 0                #학생들의 순번을 아직 안셋으니까 0으로.\n",
    "\n",
    "for score in score_list:\n",
    "    i += 1               #여기에는 어떤 조건도 없다 그냥 프린트 되는것이다. score가 score_list 를 한번씩 순회할때마다 1씩 더한다.\n",
    "    if score >= 80:      # 점수가 100점인 1번학생 부터 시작이고 1번학생은 합격인지 불합격인지 프린트하고 다음으로 2번학생 다음으로 3번학생. 이런식이다.  # 결과가 1번부터 6번까지 쭉 나올것이다.\n",
    "        print(f\"{i}번 학생은 합격입니다.\")\n",
    "    elif score >= 70:\n",
    "        print(f\"{i}번 학생은 2차 시험에 응시해야 합니다.\")\n",
    "    else:\n",
    "        print(f\"{i}번 학생은 불합격입니다.\") \n",
    "#====================================================================================================\n",
    "all_scores = [[100, 90, 90], [80, 75, 90]]      #두학생의 성적리스트이다\n",
    "i = 0        # 몇번째 학생인지 1씩 더할때마다 받아줄 변수\n",
    "\n",
    "for individual_scores in all_scores:\n",
    "    i += 1            # 한번 순회할때마다 1씩 더하기 \n",
    "    print(f\"{i}번째 학생의 국어, 영어, 수학 성적 리스트: {individual_scores}\")"
   ]
  },
  {
   "cell_type": "code",
   "execution_count": null,
   "metadata": {},
   "outputs": [],
   "source": [
    "#**문자열을 순회는 for 문**\n",
    "\n",
    "#문제 : \"hello word\" 를 하나씩 출력 할려면? for문으로 만들기.\n",
    "\n",
    "#문제 : for문과 range() 함수로 0애서 5까지 출력하기\n",
    "\n",
    "#문제 : for문과 range() 함수로 hello word 5번 출력하기\n",
    "\n",
    "#문제 : 1부터 10의 합 구하기\n"
   ]
  },
  {
   "cell_type": "code",
   "execution_count": null,
   "metadata": {},
   "outputs": [],
   "source": [
    "#위 정답들\n",
    "string = \"hello word\"\n",
    "for a in string:\n",
    "    print(a)\n",
    "#==================================================================\n",
    "for a in range(5):\n",
    "    print(a)\n",
    "#==================================================================\n",
    "for a in range(5):\n",
    "    print(\"hello word\")      #print(f\"실행 횟수: {num + 1}회\") 해봐도 된다.\n",
    "#=================================================================\n",
    "total_sum = 0\n",
    "for num in range(1, 11):\n",
    "    total_sum += num\n",
    "print(total_sum)\n",
    "#======================================================================="
   ]
  }
 ],
 "metadata": {
  "kernelspec": {
   "display_name": "Python 3",
   "language": "python",
   "name": "python3"
  },
  "language_info": {
   "codemirror_mode": {
    "name": "ipython",
    "version": 3
   },
   "file_extension": ".py",
   "mimetype": "text/x-python",
   "name": "python",
   "nbconvert_exporter": "python",
   "pygments_lexer": "ipython3",
   "version": "3.13.1"
  }
 },
 "nbformat": 4,
 "nbformat_minor": 2
}
